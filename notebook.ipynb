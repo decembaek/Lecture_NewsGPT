{
 "cells": [
  {
   "cell_type": "markdown",
   "metadata": {},
   "source": [
    "# LangChain 기본 Prompt 설명"
   ]
  },
  {
   "cell_type": "code",
   "execution_count": 1,
   "metadata": {},
   "outputs": [
    {
     "data": {
      "text/plain": [
       "AIMessage(content='Ciao!', response_metadata={'token_usage': {'completion_tokens': 3, 'prompt_tokens': 22, 'total_tokens': 25}, 'model_name': 'gpt-4-0613', 'system_fingerprint': None, 'finish_reason': 'stop', 'logprobs': None}, id='run-5ab95858-adae-4a13-9ef1-3b43f10260d6-0', usage_metadata={'input_tokens': 22, 'output_tokens': 3, 'total_tokens': 25})"
      ]
     },
     "execution_count": 1,
     "metadata": {},
     "output_type": "execute_result"
    }
   ],
   "source": [
    "# LLM Model\n",
    "from langchain_openai import ChatOpenAI\n",
    "\n",
    "# LangChain Core\n",
    "from langchain_core.messages import HumanMessage, SystemMessage\n",
    "\n",
    "\n",
    "model = ChatOpenAI(model=\"gpt-4\")\n",
    "\n",
    "messages = [\n",
    "    SystemMessage(content=\"You are a translator, Change English to Italian\"),\n",
    "    HumanMessage(content=\"Hello!\"),\n",
    "]\n",
    "\n",
    "result = model.invoke(messages)\n",
    "result\n",
    "# prompt 엔지니어란 이런것\n",
    "# LLM에게 역할을 부여하여 원하는 대답을 끌어내는것"
   ]
  },
  {
   "cell_type": "code",
   "execution_count": 2,
   "metadata": {},
   "outputs": [],
   "source": [
    "# Output Parsers : 내보내는 형태 (ex: xml, json)\n",
    "from langchain_core.output_parsers import StrOutputParser\n",
    "\n",
    "parser = StrOutputParser()"
   ]
  },
  {
   "cell_type": "code",
   "execution_count": 3,
   "metadata": {},
   "outputs": [
    {
     "data": {
      "text/plain": [
       "'Ciao!'"
      ]
     },
     "execution_count": 3,
     "metadata": {},
     "output_type": "execute_result"
    }
   ],
   "source": [
    "r = parser.invoke(result)\n",
    "r"
   ]
  },
  {
   "cell_type": "code",
   "execution_count": 4,
   "metadata": {},
   "outputs": [
    {
     "data": {
      "text/plain": [
       "'Ciao!'"
      ]
     },
     "execution_count": 4,
     "metadata": {},
     "output_type": "execute_result"
    }
   ],
   "source": [
    "# LangChain 에 Chain 이란 이름이 붙은 이유\n",
    "# 리눅스에서 쓰이는 문법 | \n",
    "\n",
    "chain = model | parser\n",
    "chain.invoke(messages)"
   ]
  },
  {
   "cell_type": "code",
   "execution_count": 5,
   "metadata": {},
   "outputs": [
    {
     "data": {
      "text/plain": [
       "'어떻게 지내세요?'"
      ]
     },
     "execution_count": 5,
     "metadata": {},
     "output_type": "execute_result"
    }
   ],
   "source": [
    "# 위에 Message 형태를 더 쉽게 -> Prompt Templates\n",
    "from langchain_core.prompts import ChatPromptTemplate\n",
    "\n",
    "prompt = ChatPromptTemplate.from_messages(\n",
    "    [\n",
    "        (\"system\", \"You are a translator, Change English to {language}\"),\n",
    "        (\"user\", \"{text}\"),\n",
    "    ]\n",
    ")\n",
    "\n",
    "chain = prompt | model | parser\n",
    "chain.invoke({\"language\" : \"korean\", \"text\":\"How are you?\"})\n",
    "\n",
    "# prompt -> prompt 내용을 그대로 model (GPT4) 에 전달\n",
    "# \"system\" : You are a translator, Change English to korean\n",
    "# \"user\" : How are you?"
   ]
  },
  {
   "cell_type": "markdown",
   "metadata": {},
   "source": [
    "# Retrievers 검색자 사용 방법"
   ]
  },
  {
   "cell_type": "code",
   "execution_count": 6,
   "metadata": {},
   "outputs": [],
   "source": [
    "# wikipedia 정보 끌어오기\n",
    "# https://python.langchain.com/v0.2/docs/integrations/retrievers/wikipedia/#question-answering-on-facts\n",
    "# https://api.python.langchain.com/en/latest/retrievers/langchain_community.retrievers.wikipedia.WikipediaRetriever.html\n",
    "\n",
    "# 위키피디아 사이트 https://www.wikipedia.org/\n",
    "from langchain_community.retrievers import WikipediaRetriever\n",
    "\n",
    "retriver = WikipediaRetriever(lang=\"ko\", top_k_results=2)"
   ]
  },
  {
   "cell_type": "code",
   "execution_count": 7,
   "metadata": {},
   "outputs": [],
   "source": [
    "docs = retriver.invoke(\"애플\")"
   ]
  },
  {
   "cell_type": "code",
   "execution_count": 8,
   "metadata": {},
   "outputs": [
    {
     "data": {
      "text/plain": [
       "[Document(page_content='애플(영어: Apple Inc.)은 미국 캘리포니아의 아이폰, 아이패드, 애플 워치, 에어팟, 아이맥, 맥북, 맥 스튜디오와 맥 프로, 홈팟, 비전 프로, 에어태그 등의 하드웨어와 그 제품들의 iOS, iPadOS, Watch OS, macOS, Vision OS, TV OS 등의 소프트웨어를 설계, 디자인하는 기업이다. 2011년부터 팀 쿡이 CEO를 맡고 있다. 또한 그 소프트웨어에 애플 앱 스토어, 뮤직, 뉴스, 아케이드, tv, 피트니스, 페이, 저장 클라우드 등의 서비스를 제공한다.\\n애플의 이전 명칭은 애플 컴퓨터 주식회사(영어: Apple Computer, Inc.)였는데, 스티브 잡스가 아이팟, 아이폰을 발표하면서 간단하게 애플이라고 기업 이름을 바꾸었다. 본사는 애플 캠퍼스와 애플 파크에 두고 있으며, 미국 캘리포니아주 쿠퍼티노에 소재하고 있다. 최고경영자는 팀 쿡이다.\\n2015년 2월 11일 세계 최초로 시가총액이 7,000억 달러를 넘은 기업이 되었다. 2018년 1조 달러를 넘었고 2022년 2.7조 달러가 되었다.\\n\\n\\n== 역사 ==\\n\\n1976년 4월 1일: 애플 컴퓨터 주식회사(APPLE COMPUTER, INC)를 설립함.\\n스티브 워즈니악과 스티브 잡스, 론 웨인이 잡스의 부모님의 차고에서 컴퓨터 조립 키트인 \\'애플 I\\'을 만들며 애플이 시작되었다.\\n1977년 4월 17일: 애플 II가 출시되었다.\\n1979년 1월 3일: 애플 컴퓨터 주식회사가 주식 상장을 하였다.\\n1983년 1월 19일: 애플 리사가 출시되었다.\\n1984년 1월 24일: 매킨토시가 처음 공개되었다. \\'1984년 광고\\'가 방영되었다.\\n1985년: 스티브 잡스가 존 스컬리에 의해 애플에서 해고되었다.\\n1993년: 세계 최초의 PDA이자 태블릿 플랫폼인 애플 뉴턴을 출시했다.\\n1997년: 스티브 잡스가 다시 애플로 돌아와 다시 애플의 CEO가 되었다.\\n1998년 8월 15일: 아이맥이 공개되었다.\\n2001년 3월 24일: 맥 OS X가 공개되었다.\\n2001년 10월 23일: 아이팟이 공개되었다.\\n2007년 1월 9일: 아이폰과 애플 TV가 공개되고, 기업의 명칭을 애플 컴퓨터(Apple Computer, Inc.)에서 애플(Apple Inc.)로 변경하였다.\\n2010년 1월 27일: 아이패드가 공개되었다.\\n2010년 6월 7일: 아이폰 4가 발표 및 공개되었다.\\n2010년 6월 24일: 아이폰 4 판매가 시작되었다.\\n2011년 8월 9일: 미국 증시에서 장중 엑손모빌을 누르고 시가총액 1위가 되었다.\\n2011년 8월 10일: 미국 증시 종가에서도 시가총액 1위가 되었다.\\n2011년 8월 24일: 스티브 잡스가 CEO 자리에서 물러나고 팀 쿡이 애플의 새로운 CEO가 되었다.\\n2011년 10월 5일: 스티브 잡스가 만 56세의 나이에 췌장암으로 사망하였다.\\n2012년 1월 19일: 뉴욕에서 아이북스 2와 iBooks Author, 그리고 iTunes U 앱을 발표하면서 교육시장에 진출한다.\\n2012년 9월 12일: 아이폰 5가 출시되었다.\\n2013년 9월 10일: 아이폰 5s와 아이폰 5C가 공개되었다.\\n2014년 9월 9일: 아이폰 6와 아이폰 6 플러스 그리고 애플 워치가 공개되었다.\\n2015년 4월 24일: 애플의 새로운 제품인 애플 워치의 발매가 시작되었다. 팀 쿡 체제의 첫 접두사 i를 뗀 제품이다.\\n2015년 9월 25일: 아이폰 6S와 아이폰 6S 플러스 발매가 시작되었다.\\n2016년 3월 31일: 아이폰 SE 발매가 시작되었다.\\n2016년 9월 8일: 아이폰 7, 아이폰 7 플러스, 애플워치 시리즈 2, 그리고 애플의 무선 이어폰인 에어팟이 공개되었다.\\n2016년 11월: 2016년형 맥북프로가 출시되었다.\\n2017년 6월: 맥북 시리즈 및 아이맥이 모두 성능이 업그레이드 되었고(맥북에어 11인치, 맥미니, 맥프로 제외), 아이맥 프로가 새로 출시되었으며 아이패드 프로가 새로 업그레이드 되었다.\\n2017년 9월: 아이폰 8과 아이폰 8 플러스, 애플의 10주년 아이폰인 아이폰 X가 공개 및 출시되었다.\\n2018년 3월: 2018년형 아이패드가 출시되었다.\\n2018년 7월: 2018년형 뉴 맥북 프로가 출시되었다.\\n2018년 11월 : 아이폰 XR과 아이폰 XS가 한국에 공식 출시되었다.\\n2019년 9월 : 아이폰 11, 아이폰 11 프로, 아이폰 11 프로 맥스, 그리고 애플의 새로운 무선 이어폰인 에어팟 프로가 출시되었다.\\n2020년 3월 17일: 4세대 아이패드 프로가 출시되었다\\n2020년 4월 29일 : 2세대 아이폰 SE가 출시되었다.\\n2020년 9월 15일 : 4세대 아이패드 에어, 애플워치 시리즈 6, 애플워치 SE가 출시되었다.\\n2020년 10월 14일 : 아이폰 12, 아이폰 12 미니, 아이폰 12 프로, 아이폰 12 프로 맥스, 그리고 홈팟이 공개되었다.\\n2021년 4월 20일 : 아이패드 프로가 발표되었다.\\n2022년 3월 18일 : 3세대 아이폰 SE 출시\\n2022년 9월 8일 : 아이폰 14, 아이폰 14 플러스, 아이폰 14 프로, 아이폰 14 프로 맥스 출시\\n2023년 10월 13일 : 아이폰 15, 아이폰 15 플러스, 아이폰 15 프로, 아이폰 15 프로 맥스 출시\\n\\n\\n== 생산제품 ==\\n\\n\\n=== 맥 ===\\n\\n맥은 애플의 개인용 컴퓨터 제품군이다. 맥은 사용의 편의성과 독특한 알루미늄 미니멀리즘 디자인으로 유명하다. 맥은 학생들, 창의적인 전문가들, 그리고 소프트웨어 엔지니어들 사이에서 인기가 있었다. 현재 라인업은 맥북에어 및 맥북프로 노트북과 아이맥, 맥미니, 맥 스튜디오 및 맥 프로 데스크톱 컴퓨터로 구성되어 있다.\\n맥은 애플 실리콘 칩을 사용하고, 맥OS 운영 체제를 실행하며, 사파리 웹 브라우저, 홈 동영상 편집용 아이무비, 음악 제작용 게레지밴드 및 아이워크 생산성 제품군과 같은 애플 소프트웨어를 포함한다. 애플은 또한 프로 앱을 판매한다: 비디오 제작(영상편집)을 위한 파이널 컷 프로, 음악가와 프로듀서를 위한 로직 프로, 그리고 소프트웨어 개발자를 위한 엑스코드가 있다.\\n애플은 또한 Pro Display XDR, Apple Studio Display, Magic Mouse, Magic Trackpack 및 Magic Keyboard를 포함한 맥 전용 다양한 액세서리를 판매한다.\\n\\n\\n=== 아이폰 ===\\n\\n아이폰은 iOS 운영체제를 실행하는 애플의 스마트폰 라인이다. 첫 번째 아이폰은 2007년 1월 9일 스티브 잡스에 의해 공개되었다. 그 이후로, 매년 새로운 모델들이 출시되었다. 그것이 소개되었을 때, 그것의 멀티 터치 스크린은 휴대폰 산업의 \"혁명적\"이고 \"게임 체인저\"로 묘사되었다. 그 장치는 앱 경제를 창출한 공로를 인정받았다.\\n2022년 기준으로 아이폰은 시장 점유율이 15%이지만 전 세계 스마트폰 매출의 50%를 차지하고 있으며, 나머지는 안드로이드폰이 차지하고 있다.아이폰은 회사에 큰 이익을 창출했고, 애플을 세계에서 가장 가치 있는 상장 기업 중 하나로 만드는 데 기여한 공로를 인정받고 있다.\\n가장 최근의 아이폰은 아이폰 15, 아이폰 15 플러스, 아이폰 15 프로, 아이폰 15 프로 맥스이다.\\n\\n\\n=== 애플 워치 ===\\n\\n\\n=== 아이패드 ===\\n\\n아이패드는 아이패드 OS를 구동하는 애플의 태블릿 라인이다. 1세대 아이패드는 2010년 1월 27일에 발표되었다. 아이패드는 주로 멀티미디어 소비, 예술 창작, 문서 작업, 화상 회의, 게임 등을 목적으로 판매되고 있다. 아이패드 라인업은 여러 기본 아이패드 모델과 더 작은 아이패드 미니, 업그레이드된 아이대프 에어 및 고급 아이패드 프로로 구성된다. 애플은 아이패드 프로가 맥과 동일한 M1 및 M2 칩을 채택하는 등 아이패드의 성능을 지속적으로 개선해 왔다. 그러나 아이패드는 여전히 제한된 OS에 대한 비판을 받고 있다.\\n애플은 2013년에 정점을 찍었지만 2020년 9월 기준으로 5억 대 이상의 아이패드를 판매했다. 아이패드는 2020년 2분기 현재 매출 기준으로 여전히 가장 인기 있는 태블릿 컴퓨터이며 2021년 말 현재 회사 매출의 9%를 차지하고 있다.\\n애플은 애플펜슬, 스마트키보드, 스마트키보드 폴리오', metadata={'title': '애플', 'summary': '애플(영어: Apple Inc.)은 미국 캘리포니아의 아이폰, 아이패드, 애플 워치, 에어팟, 아이맥, 맥북, 맥 스튜디오와 맥 프로, 홈팟, 비전 프로, 에어태그 등의 하드웨어와 그 제품들의 iOS, iPadOS, Watch OS, macOS, Vision OS, TV OS 등의 소프트웨어를 설계, 디자인하는 기업이다. 2011년부터 팀 쿡이 CEO를 맡고 있다. 또한 그 소프트웨어에 애플 앱 스토어, 뮤직, 뉴스, 아케이드, tv, 피트니스, 페이, 저장 클라우드 등의 서비스를 제공한다.\\n애플의 이전 명칭은 애플 컴퓨터 주식회사(영어: Apple Computer, Inc.)였는데, 스티브 잡스가 아이팟, 아이폰을 발표하면서 간단하게 애플이라고 기업 이름을 바꾸었다. 본사는 애플 캠퍼스와 애플 파크에 두고 있으며, 미국 캘리포니아주 쿠퍼티노에 소재하고 있다. 최고경영자는 팀 쿡이다.\\n2015년 2월 11일 세계 최초로 시가총액이 7,000억 달러를 넘은 기업이 되었다. 2018년 1조 달러를 넘었고 2022년 2.7조 달러가 되었다.', 'source': 'https://ko.wikipedia.org/wiki/%EC%95%A0%ED%94%8C'}),\n",
       " Document(page_content='애플 워치(영어:  Apple Watch)는 애플이 판매하는 스마트워치이다. 2014년 9월 9일에 미국 캘리포니아 쿠퍼티노 디앤자 단과대학 플린트센터에서 처음으로 발표되었다. 2015년 3월 9일 미국 샌프란시스코 에바 부에나 센터에서 열린 공식 행사에서 애플 워치에 대한 정보를 추가적으로 발표했다. 2015년 4월 24일에 처음으로 출시되어 판매했으며, 대한민국의 애플워치 출시일은 6월 26일이었다.\\n2015년 4월 25일 애플 워치용 전용 앱스토어가 개시 되었고 예약주문도 시작되었다. 일부 명품매장에선 직접 구매도 가능하다.\\n\\n\\n== 애플리케이션 ==\\n애플 워치에는 기본적으로 전화, 메시지, 메일, 캘린더, 액티비티, 운동, 지도, 패스북, 시리, 음악, 카메라 리모트, 리모트, 날씨, 주식, 사진, 시계(스톱워치 등), 설정 애플리케이션을 내장하고 있으며, 연동하는 iOS 기기의 설정을 통해 앱스토어에서 다른 제작자가 만든 앱을 다운 받아 설치할 수 있다.\\n\\n\\n== 하드웨어 ==\\n\\n\\n=== 1세대 ===\\n1세대 애플워치는 싱글 코어 애플 S1을 사용한다. GPS 칩이 내장되어 있지 않으며 위치 서비스를 이용하기 위해 아이폰을 사용해야한다. 탭틱 엔진을 사용하여 알림을 받을 때 햅틱 피드백을 제공한다. 심장박동센서가 내장되어있다.\\n\\n\\n=== 2세대 ===\\n2세대는 2개의 제품으로 구성된다. 시리즈 1은 애플 S1 프로세서의 듀얼 코어 버전인 S1P를 사용하며 1세대보다 저렴한 가격으로 출시되었다. 시리즈2는 듀얼 코어 애플 S2 프로세서, 50m 방수 기능, 두 배 이상의 밝은 디스플레이 및 GPS 수신기를 갖추고 있다.\\n\\n\\n=== 3세대 ===\\n3세대는 더 빠른 프로세서인 듀얼 코어 애플 S3, Bluetooth 4.2, 내장 고도계, 더 커진 RAM, 선택 사양인 LTE 연결 기능을 가지고있다.\\n\\n\\n=== 4세대 ===\\n4세대는 3세대보다 2배가량 더 빨라진 64비트 아키텍처를 적용한 애플S4 프로세서와 더 커진 화면과 심전도 측정, 넘어짐 감지 기능을 탑재하고 있으며, 넘어짐 감지 기능이 추가되면서 자이로스코프 센서와 가속도계가 전 세대보다 2배 더 민감해졌다. 또, 광학심박센서가 2세대로 바뀌며 3세대에 비해 많은 변화가 있었다.\\n\\n\\n=== 5세대 ===\\n5세대는 화면을 항상 켜져 있는 상태로 할 수 있는 AOD(Always On Display)기능을 추가 했고 심박수 측정 기능, 여성의 생리주기 확인 기능, 나침반과 고도계 기능 등이 추가 되었다.\\n\\n\\n=== SE 1세대 ===\\nSE는 6세대의 보급형으로 AOD 디스플레이가 아닌 RETINA 디스플레이로 바꿨다.\\n\\n\\n=== 6세대 ===\\n6세대는 혈중산소 기능이 추가 됐다.\\n\\n\\n=== 7세대 ===\\n기존 32GB에 비해 이번 7세대는 64GB로 용량이 늘어났다.\\n소재에 따라 다르긴하지만 이번 7세대는 그린을 비롯한 다양한 색깔들이 생겨 선택의 폭이 넓어졌다.\\n외형적인 면에서 기존의 애플워치와는 차이가 생긴것을 볼 수 있다.\\n\\n\\n== 세부적 특징 ==\\n\\n\\n== 출시 국가 ==\\n\\n\\n== 같이 보기 ==\\nIOS 및 iPadOS 제품 목록\\n\\n\\n== 각주 ==\\n\\n\\n== 외부 링크 ==\\n\\n(영어) 애플 워치 - 공식 웹사이트\\n(한국어) 애플 워치 - 공식 웹사이트', metadata={'title': '애플 워치', 'summary': '애플 워치(영어:  Apple Watch)는 애플이 판매하는 스마트워치이다. 2014년 9월 9일에 미국 캘리포니아 쿠퍼티노 디앤자 단과대학 플린트센터에서 처음으로 발표되었다. 2015년 3월 9일 미국 샌프란시스코 에바 부에나 센터에서 열린 공식 행사에서 애플 워치에 대한 정보를 추가적으로 발표했다. 2015년 4월 24일에 처음으로 출시되어 판매했으며, 대한민국의 애플워치 출시일은 6월 26일이었다.\\n2015년 4월 25일 애플 워치용 전용 앱스토어가 개시 되었고 예약주문도 시작되었다. 일부 명품매장에선 직접 구매도 가능하다.\\n\\n', 'source': 'https://ko.wikipedia.org/wiki/%EC%95%A0%ED%94%8C_%EC%9B%8C%EC%B9%98'})]"
      ]
     },
     "execution_count": 8,
     "metadata": {},
     "output_type": "execute_result"
    }
   ],
   "source": [
    "docs"
   ]
  },
  {
   "cell_type": "code",
   "execution_count": 24,
   "metadata": {},
   "outputs": [],
   "source": [
    "prompt = ChatPromptTemplate.from_messages(\n",
    "    [\n",
    "        (\n",
    "            \"system\",\n",
    "            \"\"\"\n",
    "            You are an explanatory expert, Do not explain text that is not included.\n",
    "            Just write answers to user questions.\n",
    "            Explain it in Korean\n",
    "            -----\n",
    "            {context}\n",
    "            -----\n",
    "            user question: {question} \n",
    "            \"\"\",\n",
    "        ),\n",
    "    ]\n",
    ")"
   ]
  },
  {
   "cell_type": "code",
   "execution_count": 10,
   "metadata": {},
   "outputs": [],
   "source": [
    "# 문서가 나누어져 잇으니 벡터로 검색하기\n",
    "from langchain_openai import OpenAIEmbeddings\n",
    "from langchain_chroma import Chroma\n",
    "\n",
    "db = Chroma.from_documents(docs, OpenAIEmbeddings())"
   ]
  },
  {
   "cell_type": "code",
   "execution_count": 14,
   "metadata": {},
   "outputs": [
    {
     "name": "stderr",
     "output_type": "stream",
     "text": [
      "Number of requested results 4 is greater than number of elements in index 2, updating n_results = 2\n"
     ]
    }
   ],
   "source": [
    "query = \"애플은 어디에 있는 회사인가?\"\n",
    "doc_list = db.similarity_search(query)\n",
    "answer = doc_list[0].page_content"
   ]
  },
  {
   "cell_type": "code",
   "execution_count": 18,
   "metadata": {},
   "outputs": [
    {
     "data": {
      "text/plain": [
       "'애플(Apple Inc.)은 미국 캘리포니아에 본사를 둔 기업으로, 아이폰, 아이패드, 애플 워치, 에어팟, 아이맥, 맥북, 맥 스튜디오와 맥 프로, 홈팟, 비전 프로, 에어태그 등 다양한 하드웨어를 설계하고 제작합니다. 또한 이런 제품들을 동작시키는 iOS, iPadOS, Watch OS, macOS, Vision OS, TV OS 등의 소프트웨어도 개발하고 있습니다. 2011년부터 팀 쿡이 CEO를 맡고 있으며, 소프트웨어에는 애플 앱 스토어, 뮤직, 뉴스, 아케이드, tv, 피트니스, 페이, 저장 클라우드 등의 서비스를 제공하고 있습니다.\\n\\n애플의 이전 명칭은 애플 컴퓨터 주식회사(Apple Computer, Inc.)였습니다. 스티브 잡스가 아이팟, 아이폰을 발표하면서 간단하게 애플로 기업 이름을 바꿨습니다. 본사는 애플 캠퍼스와 애플 파크에 위치해 있으며, 미국 캘리포니아주 쿠퍼티노에 소재하고 있습니다. 최고경영자는 팀 쿡입니다.\\n\\n애플은 1976년 4월 1일에 설립되었고, 스티브 워즈니악과 스티브 잡스, 론 웨인이 잡스의 부모님의 차고에서 컴퓨터 조립 키트인 \\'애플 I\\'을 만들었습니다. 그 이후로 다양한 제품을 출시하며 세계 최초로 시가총액이 7,000억 달러를 넘은 기업이 되었습니다. 2018년에는 1조 달러를 넘었고, 2022년에는 2.7조 달러가 되었습니다.\\n\\n애플은 맥, 아이폰, 애플 워치, 아이패드 등 다양한 제품군을 생산하고 있습니다. 맥은 사용의 편의성과 독특한 알루미늄 미니멀리즘 디자인으로 유명하며, 아이폰은 iOS 운영체제를 실행하는 스마트폰 라인으로, 그 멀티 터치 스크린은 휴대폰 산업의 \"혁명적\"이고 \"게임 체인저\"로 묘사되었습니다. 아이패드는 아이패드 OS를 구동하는 태블릿 라인으로, 주로 멀티미디어 소비, 예술 창작, 문서 작업, 화상 회의, 게임 등을 목적으로 판매되고 있습니다.'"
      ]
     },
     "execution_count": 18,
     "metadata": {},
     "output_type": "execute_result"
    }
   ],
   "source": [
    "chain = prompt | model | parser\n",
    "# chain.invoke({\"context\": answer, \"question\":})"
   ]
  },
  {
   "cell_type": "code",
   "execution_count": null,
   "metadata": {},
   "outputs": [],
   "source": []
  },
  {
   "cell_type": "markdown",
   "metadata": {},
   "source": [
    "# 텍스트로 질문하고 그 중 단어를 검색 후 답변하기"
   ]
  },
  {
   "cell_type": "code",
   "execution_count": 19,
   "metadata": {},
   "outputs": [],
   "source": [
    "keyword_prompt = ChatPromptTemplate.from_messages(\n",
    "    [\n",
    "        (\n",
    "            \"system\",\n",
    "            \"\"\"\n",
    "            Text blocks are provided, and the task is to extract one of the most important keywords from the text blocks.\n",
    "            Extract the language you used\n",
    "            -----\n",
    "            {question}\n",
    "            \"\"\",\n",
    "        ),\n",
    "    ]\n",
    ")"
   ]
  },
  {
   "cell_type": "code",
   "execution_count": 22,
   "metadata": {},
   "outputs": [
    {
     "name": "stdout",
     "output_type": "stream",
     "text": [
      "테슬라 기업\n"
     ]
    }
   ],
   "source": [
    "user_question = \"테슬라 기업은 언제 설립하였나?\"\n",
    "\n",
    "keyword_chain = keyword_prompt | model | parser\n",
    "result = keyword_chain.invoke({\"question\": user_question})\n",
    "print(result)"
   ]
  },
  {
   "cell_type": "code",
   "execution_count": 25,
   "metadata": {},
   "outputs": [
    {
     "name": "stderr",
     "output_type": "stream",
     "text": [
      "/Users/baekseung-gyu/Documents/LectureProjects/NewsGPT/venv/lib/python3.11/site-packages/wikipedia/wikipedia.py:389: GuessedAtParserWarning: No parser was explicitly specified, so I'm using the best available HTML parser for this system (\"html.parser\"). This usually isn't a problem, but if you run this code on another system, or in a different virtual environment, it may use a different parser and behave differently.\n",
      "\n",
      "The code that caused this warning is on line 389 of the file /Users/baekseung-gyu/Documents/LectureProjects/NewsGPT/venv/lib/python3.11/site-packages/wikipedia/wikipedia.py. To get rid of this warning, pass the additional argument 'features=\"html.parser\"' to the BeautifulSoup constructor.\n",
      "\n",
      "  lis = BeautifulSoup(html).find_all('li')\n"
     ]
    },
    {
     "data": {
      "text/plain": [
       "'테슬라는 2003년에 마틴 에버하드(CEO)와 마크 타페닝(CFO)이 창업한 회사입니다.'"
      ]
     },
     "execution_count": 25,
     "metadata": {},
     "output_type": "execute_result"
    }
   ],
   "source": [
    "docs = retriver.invoke(result)\n",
    "db = Chroma.from_documents(docs, OpenAIEmbeddings())\n",
    "\n",
    "doc_list = db.similarity_search(user_question)\n",
    "answer = doc_list[0].page_content\n",
    "\n",
    "\n",
    "chain = prompt | model | parser\n",
    "chain.invoke({\"context\": answer, \"question\": user_question})"
   ]
  },
  {
   "cell_type": "code",
   "execution_count": null,
   "metadata": {},
   "outputs": [],
   "source": []
  }
 ],
 "metadata": {
  "kernelspec": {
   "display_name": "Python 3 (ipykernel)",
   "language": "python",
   "name": "python3"
  }
 },
 "nbformat": 4,
 "nbformat_minor": 2
}
